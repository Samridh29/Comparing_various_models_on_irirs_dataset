{
 "cells": [
  {
   "cell_type": "markdown",
   "metadata": {},
   "source": [
    "<h1>Object Dectection</h1>"
   ]
  },
  {
   "cell_type": "markdown",
   "metadata": {},
   "source": [
    "<h2>Loading the libraries</h2>"
   ]
  },
  {
   "cell_type": "code",
   "execution_count": 20,
   "metadata": {},
   "outputs": [],
   "source": [
    "import imutils\n",
    "import cv2\n",
    "import numpy as np"
   ]
  },
  {
   "cell_type": "markdown",
   "metadata": {},
   "source": [
    "<h2>Loading the Image and Checking its dimesions</h2>"
   ]
  },
  {
   "cell_type": "code",
   "execution_count": 11,
   "metadata": {},
   "outputs": [
    {
     "name": "stdout",
     "output_type": "stream",
     "text": [
      "width=600, height=322, depth=3\n"
     ]
    },
    {
     "ename": "IndexError",
     "evalue": "list index out of range",
     "output_type": "error",
     "traceback": [
      "\u001b[0;31m---------------------------------------------------------------------------\u001b[0m",
      "\u001b[0;31mIndexError\u001b[0m                                Traceback (most recent call last)",
      "\u001b[1;32m/Users/samridhagarwal/Desktop/ML/counting_number_of_objects/script1.ipynb Cell 5'\u001b[0m in \u001b[0;36m<cell line: 6>\u001b[0;34m()\u001b[0m\n\u001b[1;32m      <a href='vscode-notebook-cell:/Users/samridhagarwal/Desktop/ML/counting_number_of_objects/script1.ipynb#ch0000010?line=3'>4</a>\u001b[0m cv2\u001b[39m.\u001b[39mimshow(\u001b[39m\"\u001b[39m\u001b[39mJurrasic Park\u001b[39m\u001b[39m\"\u001b[39m, image) \u001b[39m#displays the image\u001b[39;00m\n\u001b[1;32m      <a href='vscode-notebook-cell:/Users/samridhagarwal/Desktop/ML/counting_number_of_objects/script1.ipynb#ch0000010?line=4'>5</a>\u001b[0m cv2\u001b[39m.\u001b[39mwaitKey(\u001b[39m0\u001b[39m)  \u001b[39m#waits for a key to be pressed to close the window\u001b[39;00m\n\u001b[0;32m----> <a href='vscode-notebook-cell:/Users/samridhagarwal/Desktop/ML/counting_number_of_objects/script1.ipynb#ch0000010?line=5'>6</a>\u001b[0m \u001b[39mprint\u001b[39m(image([\u001b[39m50\u001b[39;49m][\u001b[39m100\u001b[39;49m]))\n",
      "\u001b[0;31mIndexError\u001b[0m: list index out of range"
     ]
    }
   ],
   "source": [
    "image = cv2.imread(\"jp.png\")\n",
    "h,w,d=image.shape\n",
    "print(\"width={}, height={}, depth={}\".format(w, h, d))\n",
    "cv2.imshow(\"Jurrasic Park\", image) #displays the image\n",
    "cv2.waitKey(0)  #waits for a key to be pressed to close the window\n"
   ]
  },
  {
   "cell_type": "markdown",
   "metadata": {},
   "source": [
    "<h2>Slicing and Cropping the image</h2>"
   ]
  },
  {
   "cell_type": "code",
   "execution_count": 15,
   "metadata": {},
   "outputs": [
    {
     "data": {
      "text/plain": [
       "101"
      ]
     },
     "execution_count": 15,
     "metadata": {},
     "output_type": "execute_result"
    }
   ],
   "source": [
    "#Slicing the image\n",
    "roi = image[60:160, 320:420] #region of interset=image[startY:endY, startX:endX]\n",
    "cv2.imshow(\"ROI\", roi)\n",
    "cv2.waitKey(0)\n"
   ]
  },
  {
   "cell_type": "markdown",
   "metadata": {},
   "source": [
    "<h2> Resizing the image</h2>"
   ]
  },
  {
   "cell_type": "markdown",
   "metadata": {},
   "source": [
    "<h3>    Resizing the image without preserving the aspect ratio</h3>"
   ]
  },
  {
   "cell_type": "code",
   "execution_count": 17,
   "metadata": {},
   "outputs": [
    {
     "data": {
      "text/plain": [
       "101"
      ]
     },
     "execution_count": 17,
     "metadata": {},
     "output_type": "execute_result"
    }
   ],
   "source": [
    "\n",
    "resizid = cv2.resize(image, (200, 200))\n",
    "cv2.imshow(\"Resized\", resizid)\n",
    "cv2.waitKey(0)"
   ]
  },
  {
   "cell_type": "markdown",
   "metadata": {},
   "source": [
    "<h3> Resizing the image while preserving the aspect ratio</h3>"
   ]
  },
  {
   "cell_type": "code",
   "execution_count": 18,
   "metadata": {},
   "outputs": [
    {
     "data": {
      "text/plain": [
       "100"
      ]
     },
     "execution_count": 18,
     "metadata": {},
     "output_type": "execute_result"
    }
   ],
   "source": [
    "\n",
    "r = 300.0/ w\n",
    "dim = (300, int(h*r))\n",
    "resized = cv2.resize(image, dim)\n",
    "cv2.imshow(\"Resized\", resized)\n",
    "cv2.waitKey(0)"
   ]
  },
  {
   "cell_type": "markdown",
   "metadata": {},
   "source": [
    "<h2>Rotating the image</h2>"
   ]
  },
  {
   "cell_type": "code",
   "execution_count": 23,
   "metadata": {},
   "outputs": [
    {
     "data": {
      "text/plain": [
       "102"
      ]
     },
     "execution_count": 23,
     "metadata": {},
     "output_type": "execute_result"
    }
   ],
   "source": [
    "center = (w//2, h//2) #finds the center of the image\n",
    "M = cv2.getRotationMatrix2D(center, -45, 1.0) #Rotates the image by 45 degrees clockwise\n",
    "\n",
    "#Making sure that our image isn't clipped\n",
    "cos = np.abs(M[0, 0]) #finds the cosine of the angle\n",
    "sin = np.abs(M[0, 1]) #finds the sine of the angle\n",
    "\n",
    "#Computing the new Dimesions of the image\n",
    "nW = int((h*sin) + (w*cos))\n",
    "nH = int((h*cos) + (w*sin))\n",
    "\n",
    "#Adjusting the rotation matrix to take into account the translation\n",
    "M[0, 2] += (nW/2) - center[0]\n",
    "M[1, 2] += (nH/2) - center[1]\n",
    "\n",
    "rotatedImage = cv2.warpAffine(image, M, (nW,nH)) #wraps the image with the matrix M\n",
    "cv2.imshow(\"Rotated\", rotatedImage)\n",
    "cv2.waitKey(0)\n"
   ]
  },
  {
   "cell_type": "markdown",
   "metadata": {},
   "source": [
    "<h2>Smoothing the Image, i.e. blurring the image</h2>"
   ]
  },
  {
   "cell_type": "code",
   "execution_count": 30,
   "metadata": {},
   "outputs": [
    {
     "data": {
      "text/plain": [
       "100"
      ]
     },
     "execution_count": 30,
     "metadata": {},
     "output_type": "execute_result"
    }
   ],
   "source": [
    "#Applying Gaussian Blur\n",
    "blurred = cv2.GaussianBlur(image, (11,11), 0) #blurs the image with a kernel of size 11x11, higer the kernel size, more blurry the image\n",
    "cv2.imshow(\"Blurred\", blurred)\n",
    "cv2.waitKey(0)"
   ]
  },
  {
   "cell_type": "code",
   "execution_count": null,
   "metadata": {},
   "outputs": [],
   "source": []
  }
 ],
 "metadata": {
  "kernelspec": {
   "display_name": "Python 3.9.0 64-bit",
   "language": "python",
   "name": "python3"
  },
  "language_info": {
   "codemirror_mode": {
    "name": "ipython",
    "version": 3
   },
   "file_extension": ".py",
   "mimetype": "text/x-python",
   "name": "python",
   "nbconvert_exporter": "python",
   "pygments_lexer": "ipython3",
   "version": "3.9.0"
  },
  "orig_nbformat": 4,
  "vscode": {
   "interpreter": {
    "hash": "aee8b7b246df8f9039afb4144a1f6fd8d2ca17a180786b69acc140d282b71a49"
   }
  }
 },
 "nbformat": 4,
 "nbformat_minor": 2
}
